{
  "nbformat": 4,
  "nbformat_minor": 0,
  "metadata": {
    "colab": {
      "name": "Toxic_Comment_Classification",
      "provenance": [],
      "collapsed_sections": []
    },
    "kernelspec": {
      "name": "python3",
      "display_name": "Python 3"
    },
    "accelerator": "TPU"
  },
  "cells": [
    {
      "cell_type": "code",
      "metadata": {
        "id": "MPi1G4l3GXtk",
        "colab": {
          "base_uri": "https://localhost:8080/"
        },
        "outputId": "642612c5-b87e-4b0b-ac79-7d029fd1467b"
      },
      "source": [
        "from google.colab import drive\n",
        "drive.mount(\"/content/drive\")"
      ],
      "execution_count": 1,
      "outputs": [
        {
          "output_type": "stream",
          "text": [
            "Drive already mounted at /content/drive; to attempt to forcibly remount, call drive.mount(\"/content/drive\", force_remount=True).\n"
          ],
          "name": "stdout"
        }
      ]
    },
    {
      "cell_type": "code",
      "metadata": {
        "id": "uPPNxbCmG637",
        "colab": {
          "base_uri": "https://localhost:8080/",
          "height": 238
        },
        "outputId": "78fec65c-0eae-4828-8b64-762a2f61e19e"
      },
      "source": [
        "import pandas as pd\n",
        "import numpy as np\n",
        "data = pd.read_csv('/content/drive/My Drive/Toxic Comment/data.csv')\n",
        "print('Shape of Data: ', data.shape)\n",
        "data.head()"
      ],
      "execution_count": 2,
      "outputs": [
        {
          "output_type": "stream",
          "text": [
            "Shape of Data:  (159571, 8)\n"
          ],
          "name": "stdout"
        },
        {
          "output_type": "execute_result",
          "data": {
            "text/html": [
              "<div>\n",
              "<style scoped>\n",
              "    .dataframe tbody tr th:only-of-type {\n",
              "        vertical-align: middle;\n",
              "    }\n",
              "\n",
              "    .dataframe tbody tr th {\n",
              "        vertical-align: top;\n",
              "    }\n",
              "\n",
              "    .dataframe thead th {\n",
              "        text-align: right;\n",
              "    }\n",
              "</style>\n",
              "<table border=\"1\" class=\"dataframe\">\n",
              "  <thead>\n",
              "    <tr style=\"text-align: right;\">\n",
              "      <th></th>\n",
              "      <th>id</th>\n",
              "      <th>comment_text</th>\n",
              "      <th>toxic</th>\n",
              "      <th>severe_toxic</th>\n",
              "      <th>obscene</th>\n",
              "      <th>threat</th>\n",
              "      <th>insult</th>\n",
              "      <th>identity_hate</th>\n",
              "    </tr>\n",
              "  </thead>\n",
              "  <tbody>\n",
              "    <tr>\n",
              "      <th>0</th>\n",
              "      <td>0000997932d777bf</td>\n",
              "      <td>Explanation\\nWhy the edits made under my usern...</td>\n",
              "      <td>0</td>\n",
              "      <td>0</td>\n",
              "      <td>0</td>\n",
              "      <td>0</td>\n",
              "      <td>0</td>\n",
              "      <td>0</td>\n",
              "    </tr>\n",
              "    <tr>\n",
              "      <th>1</th>\n",
              "      <td>000103f0d9cfb60f</td>\n",
              "      <td>D'aww! He matches this background colour I'm s...</td>\n",
              "      <td>0</td>\n",
              "      <td>0</td>\n",
              "      <td>0</td>\n",
              "      <td>0</td>\n",
              "      <td>0</td>\n",
              "      <td>0</td>\n",
              "    </tr>\n",
              "    <tr>\n",
              "      <th>2</th>\n",
              "      <td>000113f07ec002fd</td>\n",
              "      <td>Hey man, I'm really not trying to edit war. It...</td>\n",
              "      <td>0</td>\n",
              "      <td>0</td>\n",
              "      <td>0</td>\n",
              "      <td>0</td>\n",
              "      <td>0</td>\n",
              "      <td>0</td>\n",
              "    </tr>\n",
              "    <tr>\n",
              "      <th>3</th>\n",
              "      <td>0001b41b1c6bb37e</td>\n",
              "      <td>\"\\nMore\\nI can't make any real suggestions on ...</td>\n",
              "      <td>0</td>\n",
              "      <td>0</td>\n",
              "      <td>0</td>\n",
              "      <td>0</td>\n",
              "      <td>0</td>\n",
              "      <td>0</td>\n",
              "    </tr>\n",
              "    <tr>\n",
              "      <th>4</th>\n",
              "      <td>0001d958c54c6e35</td>\n",
              "      <td>You, sir, are my hero. Any chance you remember...</td>\n",
              "      <td>0</td>\n",
              "      <td>0</td>\n",
              "      <td>0</td>\n",
              "      <td>0</td>\n",
              "      <td>0</td>\n",
              "      <td>0</td>\n",
              "    </tr>\n",
              "  </tbody>\n",
              "</table>\n",
              "</div>"
            ],
            "text/plain": [
              "                 id  ... identity_hate\n",
              "0  0000997932d777bf  ...             0\n",
              "1  000103f0d9cfb60f  ...             0\n",
              "2  000113f07ec002fd  ...             0\n",
              "3  0001b41b1c6bb37e  ...             0\n",
              "4  0001d958c54c6e35  ...             0\n",
              "\n",
              "[5 rows x 8 columns]"
            ]
          },
          "metadata": {
            "tags": []
          },
          "execution_count": 2
        }
      ]
    },
    {
      "cell_type": "code",
      "metadata": {
        "id": "1MENP1WMcTt7",
        "colab": {
          "base_uri": "https://localhost:8080/"
        },
        "outputId": "c0a0b885-7a36-4732-dd5e-258e744f54f4"
      },
      "source": [
        "y_cols = list(data.columns[2:])\n",
        "is_multilabel = (data[y_cols].sum(axis=1) >1).count()\n",
        "print('is_multilabel count: ', is_multilabel)"
      ],
      "execution_count": 4,
      "outputs": [
        {
          "output_type": "stream",
          "text": [
            "is_multilabel count:  159571\n"
          ],
          "name": "stdout"
        }
      ]
    },
    {
      "cell_type": "code",
      "metadata": {
        "id": "v0JnAlq6RbDD"
      },
      "source": [
        "data['non_toxic'] = 1-data[y_cols].max(axis=1)\n",
        "y_cols += ['non_toxic']"
      ],
      "execution_count": 5,
      "outputs": []
    },
    {
      "cell_type": "code",
      "metadata": {
        "colab": {
          "base_uri": "https://localhost:8080/"
        },
        "id": "Kdi1mGL7Rdxf",
        "outputId": "a0f47b56-527f-4fcc-bc25-dfa50cca062b"
      },
      "source": [
        "from sklearn.model_selection import train_test_split\n",
        "def get_train_test_val(data):\n",
        "    X_data = data['comment_text'].values\n",
        "    y_data = data[list(data.columns[2:])].values\n",
        "    X, X_test, y, y_test = train_test_split(X_data, y_data, test_size=0.1, train_size=0.9)\n",
        "    X_train, X_val, y_train, y_val = train_test_split(X,y,test_size = 0.25,train_size =0.75)\n",
        "    return X_train, X_val, X_test, y_train, y_val, y_test\n",
        "\n",
        "X_train, X_val, X_test, y_train, y_val, y_test = get_train_test_val(data)"
      ],
      "execution_count": 6,
      "outputs": [
        {
          "output_type": "stream",
          "text": [
            "X_train shape (107709,) \n",
            "y_train shape (107709, 7) \n",
            "X_test shape (15958,) \n",
            "y_test shape (15958, 7) \n",
            "X_val shape (35904,) \n",
            "y_val shape (35904, 7)\n"
          ],
          "name": "stdout"
        }
      ]
    },
    {
      "cell_type": "code",
      "metadata": {
        "colab": {
          "base_uri": "https://localhost:8080/",
          "height": 58
        },
        "id": "3ayyZ-7US_sG",
        "outputId": "5e656d60-3f50-4054-a6c5-a85c46222722"
      },
      "source": [
        "X_train[0]"
      ],
      "execution_count": 7,
      "outputs": [
        {
          "output_type": "execute_result",
          "data": {
            "application/vnd.google.colaboratory.intrinsic+json": {
              "type": "string"
            },
            "text/plain": [
              "'Thanks! Please could you also check if the spell checker is enabled under Edit > Spelling and Grammar > Check Spelling While Typing.'"
            ]
          },
          "metadata": {
            "tags": []
          },
          "execution_count": 7
        }
      ]
    },
    {
      "cell_type": "code",
      "metadata": {
        "colab": {
          "base_uri": "https://localhost:8080/"
        },
        "id": "RD1uNJTCTALj",
        "outputId": "d85a18aa-0a03-443f-eecc-5ed04181a5a8"
      },
      "source": [
        "import nltk\n",
        "import nltk as stopwords\n",
        "nltk.download('stopwords')\n",
        "from nltk.corpus import stopwords\n",
        "nltk.download('punkt')\n",
        "import re"
      ],
      "execution_count": 12,
      "outputs": [
        {
          "output_type": "stream",
          "text": [
            "[nltk_data] Downloading package stopwords to /root/nltk_data...\n",
            "[nltk_data]   Unzipping corpora/stopwords.zip.\n",
            "[nltk_data] Downloading package punkt to /root/nltk_data...\n",
            "[nltk_data]   Package punkt is already up-to-date!\n"
          ],
          "name": "stdout"
        }
      ]
    },
    {
      "cell_type": "code",
      "metadata": {
        "colab": {
          "base_uri": "https://localhost:8080/"
        },
        "id": "xcvKXLJ8TG3E",
        "outputId": "2769ebc1-435d-4f33-b00b-d5f5ffc49d33"
      },
      "source": [
        "REPLACE_BY_SPACE_RE = re.compile('[/(){}\\[\\]\\|@,;]')\n",
        "BAD_SYMBOLS_RE = re.compile('[^0-9a-z #+_]')\n",
        "STOPWORDS = set(stopwords.words('english'))\n",
        "REPLACE_IP_ADDRESS = re.compile(r'\\b(?:[0-9]{1,3}\\.){3}[0-9]{1,3}\\b')\n",
        "\n",
        "def text_prepare(text):\n",
        "    text = text.replace('\\n', ' ').lower()\n",
        "    text = REPLACE_IP_ADDRESS.sub('', text) \n",
        "    text = REPLACE_BY_SPACE_RE.sub(' ',text)\n",
        "    text = BAD_SYMBOLS_RE.sub('',text)\n",
        "    text = ' '.join([w for w in text.split() if not w in STOPWORDS])\n",
        "    return text\n",
        "\n",
        "X_train = [text_prepare(x) for x in X_train]\n",
        "X_val = [text_prepare(x) for x in X_val]\n",
        "X_train[:1]"
      ],
      "execution_count": 13,
      "outputs": [
        {
          "output_type": "execute_result",
          "data": {
            "text/plain": [
              "['thanks please could also check spell checker enabled edit spelling grammar check spelling typing']"
            ]
          },
          "metadata": {
            "tags": []
          },
          "execution_count": 13
        }
      ]
    },
    {
      "cell_type": "code",
      "metadata": {
        "id": "42ZGul5STPqg"
      },
      "source": [
        "from scipy import sparse as sp_sparse"
      ],
      "execution_count": 16,
      "outputs": []
    },
    {
      "cell_type": "code",
      "metadata": {
        "id": "J7z8Y_kjTc_n"
      },
      "source": [
        "words_counts = {}\n",
        "for comments in X_train:\n",
        "    for word in comments.split():\n",
        "        if word not in words_counts:\n",
        "            words_counts[word] = 1\n",
        "        words_counts[word] += 1\n",
        "        \n",
        "DICT_SIZE = 10000\n",
        "POPULAR_WORDS = sorted(words_counts, key=words_counts.get, reverse=True)[:DICT_SIZE]\n",
        "WORDS_TO_INDEX = {key: rank for rank, key in enumerate(POPULAR_WORDS, 0)}\n",
        "INDEX_TO_WORDS = {index:word for word, index in WORDS_TO_INDEX.items()}\n",
        "ALL_WORDS = WORDS_TO_INDEX.keys()\n"
      ],
      "execution_count": 17,
      "outputs": []
    },
    {
      "cell_type": "code",
      "metadata": {
        "colab": {
          "base_uri": "https://localhost:8080/"
        },
        "id": "saY9mS1MTfKa",
        "outputId": "72db9d32-e0df-4008-b255-893190d5165c"
      },
      "source": [
        "def my_bag_of_words(text, words_to_index, dict_size):\n",
        "    result_vector = np.zeros(dict_size)\n",
        "    for word in text.split(' '):\n",
        "        if word in words_to_index:\n",
        "            result_vector[words_to_index[word]] +=1\n",
        "    return result_vector\n",
        "\n",
        "X_train_mybag = sp_sparse.vstack([sp_sparse.csr_matrix(my_bag_of_words(text, WORDS_TO_INDEX, DICT_SIZE)) for text in X_train])\n",
        "X_val_mybag = sp_sparse.vstack([sp_sparse.csr_matrix(my_bag_of_words(text, WORDS_TO_INDEX, DICT_SIZE)) for text in X_val])\n",
        "print('X_train shape ', X_train_mybag.shape, '\\nX_val shape ', X_val_mybag.shape)"
      ],
      "execution_count": 18,
      "outputs": [
        {
          "output_type": "stream",
          "text": [
            "X_train shape  (107709, 10000) \n",
            "X_val shape  (35904, 10000)\n"
          ],
          "name": "stdout"
        }
      ]
    },
    {
      "cell_type": "code",
      "metadata": {
        "id": "ECjerleITz0g"
      },
      "source": [
        "from sklearn.feature_extraction.text import TfidfVectorizer"
      ],
      "execution_count": 19,
      "outputs": []
    },
    {
      "cell_type": "code",
      "metadata": {
        "id": "7FaL3pDvT2bS"
      },
      "source": [
        "def tfidf_features(X_train, X_val, X_test):\n",
        "    tfidf_vectorizer = TfidfVectorizer(ngram_range=(1,2), max_df=0.9, min_df=5)\n",
        "    X_train_tfidf = tfidf_vectorizer.fit_transform(X_train)\n",
        "    X_val_tfidf = tfidf_vectorizer.transform(X_val)\n",
        "    X_test_tfidf = tfidf_vectorizer.transform(X_test)\n",
        "    \n",
        "    return X_train_tfidf, X_val_tfidf, X_test_tfidf, tfidf_vectorizer.vocabulary_\n",
        "\n",
        "X_train_tfidf, X_val_tfidf, X_test_tfidf, tfidf_vocab = tfidf_features(X_train, X_val, X_test)\n",
        "tfidf_reversed_vocab = {i:word for word,i in tfidf_vocab.items()}"
      ],
      "execution_count": 20,
      "outputs": []
    },
    {
      "cell_type": "code",
      "metadata": {
        "id": "POknAJn1UC40"
      },
      "source": [
        "from sklearn.multiclass import OneVsRestClassifier\n",
        "from sklearn.linear_model import LogisticRegression, RidgeClassifier\n",
        "\n",
        "def train_classifier(X_train, y_train, C, regularisation):\n",
        "    model = OneVsRestClassifier(LogisticRegression(penalty=regularisation, C=C, max_iter=10000)).fit(X_train, y_train)\n",
        "    return model\n",
        "classifier_mybag = train_classifier(X_train_mybag, y_train, C = 4, regularisation = 'l2')\n",
        "classifier_tfidf = train_classifier(X_train_tfidf, y_train, C = 4, regularisation = 'l2')\n",
        "y_val_predicted_labels_mybag = classifier_mybag.predict(X_val_mybag)\n",
        "y_val_predicted_labels_tfidf = classifier_tfidf.predict(X_val_tfidf)"
      ],
      "execution_count": 21,
      "outputs": []
    },
    {
      "cell_type": "code",
      "metadata": {
        "id": "RKOjCCXEW2T4"
      },
      "source": [
        "y_val_predicted_scores_mybag = classifier_mybag.decision_function(X_val_mybag)\n",
        "y_val_predicted_scores_tfidf = classifier_tfidf.decision_function(X_val_tfidf)"
      ],
      "execution_count": 22,
      "outputs": []
    },
    {
      "cell_type": "code",
      "metadata": {
        "colab": {
          "base_uri": "https://localhost:8080/",
          "height": 643
        },
        "id": "I-PL-AhLW4IW",
        "outputId": "d73ea5b7-400b-4d03-80f4-57f85c80edcb"
      },
      "source": [
        "import matplotlib.pyplot as plt\n",
        "from sklearn.metrics import confusion_matrix\n",
        "confusion_mat = confusion_matrix(\n",
        "    y_val.argmax(axis=1), y_val_predicted_labels_mybag.argmax(axis=1))\n",
        "\n",
        "import seaborn as sns\n",
        "plt.subplots(figsize=(10,10))\n",
        "sns.heatmap(confusion_mat, annot=True)\n",
        "plt.xlabel('Predicted_mybag')\n",
        "plt.ylabel('Actual_mybag')"
      ],
      "execution_count": 23,
      "outputs": [
        {
          "output_type": "execute_result",
          "data": {
            "text/plain": [
              "Text(69.0, 0.5, 'Actual_mybag')"
            ]
          },
          "metadata": {
            "tags": []
          },
          "execution_count": 23
        },
        {
          "output_type": "display_data",
          "data": {
            "image/png": "[encoded data removed]",
            "text/plain": [
              "<Figure size 720x720 with 2 Axes>"
            ]
          },
          "metadata": {
            "tags": [],
            "needs_background": "light"
          }
        }
      ]
    },
    {
      "cell_type": "code",
      "metadata": {
        "id": "_eA6Yq5EW901"
      },
      "source": [
        "from sklearn.metrics import accuracy_score\n",
        "from sklearn.metrics import f1_score\n",
        "from sklearn.metrics import roc_auc_score \n",
        "from sklearn.metrics import average_precision_score\n",
        "from sklearn.metrics import recall_score"
      ],
      "execution_count": 24,
      "outputs": []
    },
    {
      "cell_type": "code",
      "metadata": {
        "colab": {
          "base_uri": "https://localhost:8080/"
        },
        "id": "z-6qcY-4XBIO",
        "outputId": "2a29af46-cf73-4e00-fd59-afc053cadada"
      },
      "source": [
        "classifier_mybag = train_classifier(X_train_mybag, y_train, C = 50, regularisation = 'l2')\n",
        "classifier_tfidf = train_classifier(X_train_tfidf, y_train, C = 50, regularisation = 'l2')\n",
        "\n",
        "y_val_predicted_labels_mybag = classifier_mybag.predict(X_val_mybag)\n",
        "y_val_predicted_labels_tfidf = classifier_tfidf.predict(X_val_tfidf)\n",
        "\n",
        "def print_evaluation_scores(y_test, predicted):\n",
        "    \n",
        "    print('Accuracy: ', accuracy_score(y_test, predicted, normalize=True))\n",
        "    print('F1-score weighted: ', f1_score(y_test, predicted, average='weighted'))\n",
        "    print('Precision weighted: ', average_precision_score(y_test, predicted, average='weighted'))\n",
        "    print('Correctly Predicted words:',accuracy_score(y_test, predicted, normalize=False) )\n",
        "    \n",
        "print('Bag-of-words\\n')\n",
        "print_evaluation_scores(y_val, y_val_predicted_labels_mybag)\n",
        "print('\\nTfidf\\n')\n",
        "print_evaluation_scores(y_val, y_val_predicted_labels_tfidf)"
      ],
      "execution_count": 25,
      "outputs": [
        {
          "output_type": "stream",
          "text": [
            "Bag-of-words\n",
            "\n",
            "Accuracy:  0.875445632798574\n",
            "F1-score weighted:  0.9041761681035281\n",
            "Precision weighted:  0.8629970297163784\n",
            "Correctly Predicted words: 31432\n",
            "\n",
            "Tfidf\n",
            "\n",
            "Accuracy:  0.9107898841354723\n",
            "F1-score weighted:  0.9212672406176565\n",
            "Precision weighted:  0.8792982682239043\n",
            "Correctly Predicted words: 32701\n"
          ],
          "name": "stdout"
        }
      ]
    },
    {
      "cell_type": "code",
      "metadata": {
        "id": "vLi0wNZBaeOU"
      },
      "source": [
        "test_predictions = classifier_tfidf.predict(X_test_tfidf)"
      ],
      "execution_count": 26,
      "outputs": []
    },
    {
      "cell_type": "code",
      "metadata": {
        "id": "aBqmk5Dpaf7a"
      },
      "source": [
        "def get_pred_labels(data, predictions):\n",
        "    y_cols = list(data.columns[2:])\n",
        "    y_label_dict={}\n",
        "    for k,v in enumerate(y_cols):\n",
        "        y_label_dict[k] = v\n",
        "\n",
        "    test_predictions_labels = []\n",
        "    for pred in predictions:\n",
        "        label_pred = []\n",
        "        for index, label in enumerate(list(pred)):\n",
        "            if label != 0:\n",
        "                label = y_label_dict[index]\n",
        "            label_pred.append(label)\n",
        "        test_predictions_labels.append(tuple([i for i in label_pred if i != 0]))\n",
        "    return test_predictions_labels\n",
        "\n",
        "test_pred_labels = get_pred_labels(data, test_predictions)\n",
        "test_labels = get_pred_labels(data, y_test)"
      ],
      "execution_count": 27,
      "outputs": []
    },
    {
      "cell_type": "code",
      "metadata": {
        "colab": {
          "base_uri": "https://localhost:8080/"
        },
        "id": "QC8wdRw5ahiK",
        "outputId": "97933f99-b73e-44da-fb92-1a238aca109d"
      },
      "source": [
        "for i in range(10,150):\n",
        "    print('\\ny_label: ', test_labels[i], '\\ny_pred: ', test_pred_labels[i])\n",
        "print('\\ny_label: ', test_labels[i], '\\ny_pred: ', test_pred_labels[i])"
      ],
      "execution_count": 28,
      "outputs": [
        {
          "output_type": "stream",
          "text": [
            "\n",
            "y_label:  ('non_toxic',) \n",
            "y_pred:  ('non_toxic',)\n",
            "\n",
            "y_label:  ('non_toxic',) \n",
            "y_pred:  ('non_toxic',)\n",
            "\n",
            "y_label:  ('non_toxic',) \n",
            "y_pred:  ('non_toxic',)\n",
            "\n",
            "y_label:  ('non_toxic',) \n",
            "y_pred:  ('toxic',)\n",
            "\n",
            "y_label:  ('toxic', 'obscene') \n",
            "y_pred:  ('non_toxic',)\n",
            "\n",
            "y_label:  ('non_toxic',) \n",
            "y_pred:  ('non_toxic',)\n",
            "\n",
            "y_label:  ('toxic',) \n",
            "y_pred:  ('toxic', 'obscene', 'insult')\n",
            "\n",
            "y_label:  ('non_toxic',) \n",
            "y_pred:  ('non_toxic',)\n",
            "\n",
            "y_label:  ('non_toxic',) \n",
            "y_pred:  ('non_toxic',)\n",
            "\n",
            "y_label:  ('toxic',) \n",
            "y_pred:  ('non_toxic',)\n",
            "\n",
            "y_label:  ('non_toxic',) \n",
            "y_pred:  ('non_toxic',)\n",
            "\n",
            "y_label:  ('non_toxic',) \n",
            "y_pred:  ('non_toxic',)\n",
            "\n",
            "y_label:  ('non_toxic',) \n",
            "y_pred:  ('non_toxic',)\n",
            "\n",
            "y_label:  ('non_toxic',) \n",
            "y_pred:  ('non_toxic',)\n",
            "\n",
            "y_label:  ('non_toxic',) \n",
            "y_pred:  ('non_toxic',)\n",
            "\n",
            "y_label:  ('non_toxic',) \n",
            "y_pred:  ('non_toxic',)\n",
            "\n",
            "y_label:  ('non_toxic',) \n",
            "y_pred:  ('non_toxic',)\n",
            "\n",
            "y_label:  ('non_toxic',) \n",
            "y_pred:  ('non_toxic',)\n",
            "\n",
            "y_label:  ('non_toxic',) \n",
            "y_pred:  ('non_toxic',)\n",
            "\n",
            "y_label:  ('non_toxic',) \n",
            "y_pred:  ('non_toxic',)\n",
            "\n",
            "y_label:  ('non_toxic',) \n",
            "y_pred:  ('non_toxic',)\n",
            "\n",
            "y_label:  ('non_toxic',) \n",
            "y_pred:  ('non_toxic',)\n",
            "\n",
            "y_label:  ('non_toxic',) \n",
            "y_pred:  ('non_toxic',)\n",
            "\n",
            "y_label:  ('non_toxic',) \n",
            "y_pred:  ('non_toxic',)\n",
            "\n",
            "y_label:  ('non_toxic',) \n",
            "y_pred:  ('non_toxic',)\n",
            "\n",
            "y_label:  ('non_toxic',) \n",
            "y_pred:  ('non_toxic',)\n",
            "\n",
            "y_label:  ('non_toxic',) \n",
            "y_pred:  ('non_toxic',)\n",
            "\n",
            "y_label:  ('non_toxic',) \n",
            "y_pred:  ('non_toxic',)\n",
            "\n",
            "y_label:  ('non_toxic',) \n",
            "y_pred:  ('non_toxic',)\n",
            "\n",
            "y_label:  ('non_toxic',) \n",
            "y_pred:  ('non_toxic',)\n",
            "\n",
            "y_label:  ('non_toxic',) \n",
            "y_pred:  ('non_toxic',)\n",
            "\n",
            "y_label:  ('non_toxic',) \n",
            "y_pred:  ('non_toxic',)\n",
            "\n",
            "y_label:  ('non_toxic',) \n",
            "y_pred:  ('non_toxic',)\n",
            "\n",
            "y_label:  ('toxic', 'obscene', 'insult', 'identity_hate') \n",
            "y_pred:  ('toxic', 'obscene', 'insult')\n",
            "\n",
            "y_label:  ('non_toxic',) \n",
            "y_pred:  ('non_toxic',)\n",
            "\n",
            "y_label:  ('non_toxic',) \n",
            "y_pred:  ('non_toxic',)\n",
            "\n",
            "y_label:  ('non_toxic',) \n",
            "y_pred:  ('non_toxic',)\n",
            "\n",
            "y_label:  ('non_toxic',) \n",
            "y_pred:  ('non_toxic',)\n",
            "\n",
            "y_label:  ('non_toxic',) \n",
            "y_pred:  ('non_toxic',)\n",
            "\n",
            "y_label:  ('non_toxic',) \n",
            "y_pred:  ('non_toxic',)\n",
            "\n",
            "y_label:  ('non_toxic',) \n",
            "y_pred:  ('non_toxic',)\n",
            "\n",
            "y_label:  ('non_toxic',) \n",
            "y_pred:  ('non_toxic',)\n",
            "\n",
            "y_label:  ('non_toxic',) \n",
            "y_pred:  ('non_toxic',)\n",
            "\n",
            "y_label:  ('non_toxic',) \n",
            "y_pred:  ('non_toxic',)\n",
            "\n",
            "y_label:  ('non_toxic',) \n",
            "y_pred:  ('non_toxic',)\n",
            "\n",
            "y_label:  ('non_toxic',) \n",
            "y_pred:  ('non_toxic',)\n",
            "\n",
            "y_label:  ('non_toxic',) \n",
            "y_pred:  ('non_toxic',)\n",
            "\n",
            "y_label:  ('non_toxic',) \n",
            "y_pred:  ('non_toxic',)\n",
            "\n",
            "y_label:  ('non_toxic',) \n",
            "y_pred:  ('non_toxic',)\n",
            "\n",
            "y_label:  ('toxic', 'threat') \n",
            "y_pred:  ('toxic',)\n",
            "\n",
            "y_label:  ('non_toxic',) \n",
            "y_pred:  ('non_toxic',)\n",
            "\n",
            "y_label:  ('non_toxic',) \n",
            "y_pred:  ('non_toxic',)\n",
            "\n",
            "y_label:  ('non_toxic',) \n",
            "y_pred:  ('non_toxic',)\n",
            "\n",
            "y_label:  ('non_toxic',) \n",
            "y_pred:  ('non_toxic',)\n",
            "\n",
            "y_label:  ('non_toxic',) \n",
            "y_pred:  ('non_toxic',)\n",
            "\n",
            "y_label:  ('non_toxic',) \n",
            "y_pred:  ('non_toxic',)\n",
            "\n",
            "y_label:  ('non_toxic',) \n",
            "y_pred:  ('non_toxic',)\n",
            "\n",
            "y_label:  ('non_toxic',) \n",
            "y_pred:  ('non_toxic',)\n",
            "\n",
            "y_label:  ('non_toxic',) \n",
            "y_pred:  ('non_toxic',)\n",
            "\n",
            "y_label:  ('non_toxic',) \n",
            "y_pred:  ('non_toxic',)\n",
            "\n",
            "y_label:  ('non_toxic',) \n",
            "y_pred:  ('non_toxic',)\n",
            "\n",
            "y_label:  ('non_toxic',) \n",
            "y_pred:  ('non_toxic',)\n",
            "\n",
            "y_label:  ('non_toxic',) \n",
            "y_pred:  ('non_toxic',)\n",
            "\n",
            "y_label:  ('non_toxic',) \n",
            "y_pred:  ('non_toxic',)\n",
            "\n",
            "y_label:  ('non_toxic',) \n",
            "y_pred:  ('non_toxic',)\n",
            "\n",
            "y_label:  ('non_toxic',) \n",
            "y_pred:  ('non_toxic',)\n",
            "\n",
            "y_label:  ('non_toxic',) \n",
            "y_pred:  ('non_toxic',)\n",
            "\n",
            "y_label:  ('non_toxic',) \n",
            "y_pred:  ('non_toxic',)\n",
            "\n",
            "y_label:  ('non_toxic',) \n",
            "y_pred:  ('non_toxic',)\n",
            "\n",
            "y_label:  ('non_toxic',) \n",
            "y_pred:  ('non_toxic',)\n",
            "\n",
            "y_label:  ('non_toxic',) \n",
            "y_pred:  ('non_toxic',)\n",
            "\n",
            "y_label:  ('non_toxic',) \n",
            "y_pred:  ('non_toxic',)\n",
            "\n",
            "y_label:  ('non_toxic',) \n",
            "y_pred:  ('non_toxic',)\n",
            "\n",
            "y_label:  ('non_toxic',) \n",
            "y_pred:  ('non_toxic',)\n",
            "\n",
            "y_label:  ('non_toxic',) \n",
            "y_pred:  ('non_toxic',)\n",
            "\n",
            "y_label:  ('insult',) \n",
            "y_pred:  ('non_toxic',)\n",
            "\n",
            "y_label:  ('non_toxic',) \n",
            "y_pred:  ('non_toxic',)\n",
            "\n",
            "y_label:  ('non_toxic',) \n",
            "y_pred:  ('non_toxic',)\n",
            "\n",
            "y_label:  ('non_toxic',) \n",
            "y_pred:  ('non_toxic',)\n",
            "\n",
            "y_label:  ('toxic', 'obscene', 'insult') \n",
            "y_pred:  ('toxic', 'obscene', 'insult', 'identity_hate')\n",
            "\n",
            "y_label:  ('non_toxic',) \n",
            "y_pred:  ('non_toxic',)\n",
            "\n",
            "y_label:  ('non_toxic',) \n",
            "y_pred:  ('non_toxic',)\n",
            "\n",
            "y_label:  ('non_toxic',) \n",
            "y_pred:  ('non_toxic',)\n",
            "\n",
            "y_label:  ('toxic', 'severe_toxic', 'obscene', 'insult') \n",
            "y_pred:  ('toxic', 'obscene', 'insult')\n",
            "\n",
            "y_label:  ('non_toxic',) \n",
            "y_pred:  ('non_toxic',)\n",
            "\n",
            "y_label:  ('toxic', 'obscene') \n",
            "y_pred:  ('toxic', 'obscene')\n",
            "\n",
            "y_label:  ('non_toxic',) \n",
            "y_pred:  ('non_toxic',)\n",
            "\n",
            "y_label:  ('non_toxic',) \n",
            "y_pred:  ('non_toxic',)\n",
            "\n",
            "y_label:  ('non_toxic',) \n",
            "y_pred:  ('non_toxic',)\n",
            "\n",
            "y_label:  ('non_toxic',) \n",
            "y_pred:  ('non_toxic',)\n",
            "\n",
            "y_label:  ('non_toxic',) \n",
            "y_pred:  ('non_toxic',)\n",
            "\n",
            "y_label:  ('non_toxic',) \n",
            "y_pred:  ('non_toxic',)\n",
            "\n",
            "y_label:  ('non_toxic',) \n",
            "y_pred:  ('non_toxic',)\n",
            "\n",
            "y_label:  ('non_toxic',) \n",
            "y_pred:  ('non_toxic',)\n",
            "\n",
            "y_label:  ('non_toxic',) \n",
            "y_pred:  ('non_toxic',)\n",
            "\n",
            "y_label:  ('non_toxic',) \n",
            "y_pred:  ('non_toxic',)\n",
            "\n",
            "y_label:  ('non_toxic',) \n",
            "y_pred:  ('non_toxic',)\n",
            "\n",
            "y_label:  ('non_toxic',) \n",
            "y_pred:  ('non_toxic',)\n",
            "\n",
            "y_label:  ('non_toxic',) \n",
            "y_pred:  ('non_toxic',)\n",
            "\n",
            "y_label:  ('non_toxic',) \n",
            "y_pred:  ('non_toxic',)\n",
            "\n",
            "y_label:  ('non_toxic',) \n",
            "y_pred:  ('non_toxic',)\n",
            "\n",
            "y_label:  ('non_toxic',) \n",
            "y_pred:  ('non_toxic',)\n",
            "\n",
            "y_label:  ('non_toxic',) \n",
            "y_pred:  ('non_toxic',)\n",
            "\n",
            "y_label:  ('non_toxic',) \n",
            "y_pred:  ('non_toxic',)\n",
            "\n",
            "y_label:  ('non_toxic',) \n",
            "y_pred:  ('non_toxic',)\n",
            "\n",
            "y_label:  ('non_toxic',) \n",
            "y_pred:  ('non_toxic',)\n",
            "\n",
            "y_label:  ('non_toxic',) \n",
            "y_pred:  ('non_toxic',)\n",
            "\n",
            "y_label:  ('non_toxic',) \n",
            "y_pred:  ('non_toxic',)\n",
            "\n",
            "y_label:  ('non_toxic',) \n",
            "y_pred:  ('non_toxic',)\n",
            "\n",
            "y_label:  ('non_toxic',) \n",
            "y_pred:  ('non_toxic',)\n",
            "\n",
            "y_label:  ('toxic', 'insult') \n",
            "y_pred:  ('toxic',)\n",
            "\n",
            "y_label:  ('non_toxic',) \n",
            "y_pred:  ('non_toxic',)\n",
            "\n",
            "y_label:  ('non_toxic',) \n",
            "y_pred:  ('non_toxic',)\n",
            "\n",
            "y_label:  ('non_toxic',) \n",
            "y_pred:  ('non_toxic',)\n",
            "\n",
            "y_label:  ('non_toxic',) \n",
            "y_pred:  ('non_toxic',)\n",
            "\n",
            "y_label:  ('non_toxic',) \n",
            "y_pred:  ('non_toxic',)\n",
            "\n",
            "y_label:  ('toxic', 'severe_toxic', 'obscene', 'insult') \n",
            "y_pred:  ('toxic', 'obscene', 'insult')\n",
            "\n",
            "y_label:  ('non_toxic',) \n",
            "y_pred:  ('non_toxic',)\n",
            "\n",
            "y_label:  ('toxic',) \n",
            "y_pred:  ('non_toxic',)\n",
            "\n",
            "y_label:  ('non_toxic',) \n",
            "y_pred:  ('non_toxic',)\n",
            "\n",
            "y_label:  ('non_toxic',) \n",
            "y_pred:  ('non_toxic',)\n",
            "\n",
            "y_label:  ('non_toxic',) \n",
            "y_pred:  ('non_toxic',)\n",
            "\n",
            "y_label:  ('insult', 'identity_hate') \n",
            "y_pred:  ('toxic',)\n",
            "\n",
            "y_label:  ('non_toxic',) \n",
            "y_pred:  ('non_toxic',)\n",
            "\n",
            "y_label:  ('non_toxic',) \n",
            "y_pred:  ('non_toxic',)\n",
            "\n",
            "y_label:  ('non_toxic',) \n",
            "y_pred:  ('non_toxic',)\n",
            "\n",
            "y_label:  ('non_toxic',) \n",
            "y_pred:  ('non_toxic',)\n",
            "\n",
            "y_label:  ('non_toxic',) \n",
            "y_pred:  ('non_toxic',)\n",
            "\n",
            "y_label:  ('non_toxic',) \n",
            "y_pred:  ('non_toxic',)\n",
            "\n",
            "y_label:  ('non_toxic',) \n",
            "y_pred:  ('non_toxic',)\n",
            "\n",
            "y_label:  ('non_toxic',) \n",
            "y_pred:  ('non_toxic',)\n",
            "\n",
            "y_label:  ('non_toxic',) \n",
            "y_pred:  ('non_toxic',)\n",
            "\n",
            "y_label:  ('non_toxic',) \n",
            "y_pred:  ('non_toxic',)\n",
            "\n",
            "y_label:  ('toxic',) \n",
            "y_pred:  ('toxic',)\n",
            "\n",
            "y_label:  ('non_toxic',) \n",
            "y_pred:  ('non_toxic',)\n",
            "\n",
            "y_label:  ('non_toxic',) \n",
            "y_pred:  ('non_toxic',)\n",
            "\n",
            "y_label:  ('non_toxic',) \n",
            "y_pred:  ('non_toxic',)\n",
            "\n",
            "y_label:  ('non_toxic',) \n",
            "y_pred:  ('non_toxic',)\n",
            "\n",
            "y_label:  ('non_toxic',) \n",
            "y_pred:  ('non_toxic',)\n",
            "\n",
            "y_label:  ('non_toxic',) \n",
            "y_pred:  ('non_toxic',)\n",
            "\n",
            "y_label:  ('non_toxic',) \n",
            "y_pred:  ('non_toxic',)\n"
          ],
          "name": "stdout"
        }
      ]
    }
  ]
}